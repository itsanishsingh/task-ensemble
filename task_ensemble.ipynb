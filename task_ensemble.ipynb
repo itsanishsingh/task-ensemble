{
 "cells": [
  {
   "cell_type": "markdown",
   "id": "3b938319-3442-4d7c-9425-64613632e992",
   "metadata": {},
   "source": [
    "# Ensemble Classifier\n",
    "It helps improve machine learning by combining various models. This approach allows the production of better predictive performance compared to a single model. The idea is to train a bunch of experts(classifiers) and let them vote."
   ]
  },
  {
   "cell_type": "markdown",
   "id": "1096891f-14f2-40ff-809d-a6b400338b5d",
   "metadata": {},
   "source": [
    "## Bagging(Bootstrapped Aggregation)\n",
    "It is used to reduce the variance of decision tree\n",
    "\n",
    "<p>\n",
    "    Implementation steps of Bagging –\n",
    "    <ul>\n",
    "        <li>Multiple subsets are created from the original data set with equal tuples, selecting observations with replacement.</li>\n",
    "        <li>A base model is created on each of these subsets.</li>\n",
    "        <li>Each model is learned in parallel from each training set and independent of each other.</li>\n",
    "        <li>The final predictions are determined by combining the predictions from all the models.</li>\n",
    "    </ul>\n",
    "</p>"
   ]
  },
  {
   "cell_type": "markdown",
   "id": "e783bb56-4cc8-4cf7-a1db-00dce8773bf9",
   "metadata": {},
   "source": [
    "## Boosting Algorithm\n",
    "Boosting is an ensemble technique that combines multiple weak learners to create a strong learner. The ensemble of weak models are trained in series such that each model that comes next, tries to correct errors of the previous model until the entire training dataset is predicted correctly. One of the most well-known boosting algorithms is AdaBoost (Adaptive Boosting). "
   ]
  },
  {
   "cell_type": "markdown",
   "id": "2a86a166-4e79-4363-b997-b7aec760d8a7",
   "metadata": {},
   "source": [
    "Lets see an implementation of voting ensemble. Here we use same dataset for different models and then they vote for the outcome."
   ]
  },
  {
   "cell_type": "code",
   "execution_count": 1,
   "id": "aba2d6bf-e14f-446b-ad9b-1cf627d6ad2c",
   "metadata": {},
   "outputs": [],
   "source": [
    "# Importing libraries\n",
    "from sklearn.ensemble import VotingClassifier, RandomForestClassifier\n",
    "from sklearn.linear_model import LogisticRegression\n",
    "from sklearn.neighbors import KNeighborsClassifier\n",
    "from sklearn.model_selection import train_test_split, cross_val_score\n",
    "import pandas as pd\n",
    "import numpy as np\n",
    "from matplotlib import pyplot as plt\n",
    "import seaborn as sns"
   ]
  },
  {
   "cell_type": "code",
   "execution_count": 2,
   "id": "e3ba0aa7-9ee7-42ab-b24d-9c3aea889f29",
   "metadata": {},
   "outputs": [],
   "source": [
    "iris = sns.load_dataset(\"iris\")"
   ]
  },
  {
   "cell_type": "code",
   "execution_count": 3,
   "id": "540ac9e8-604e-4891-81ec-1bbf78f08e16",
   "metadata": {},
   "outputs": [],
   "source": [
    "species_map = {\"setosa\": 1, \"versicolor\": 2, \"virginica\": 3}\n",
    "get_species_name = {val: key for key, val in species_map.items()}"
   ]
  },
  {
   "cell_type": "code",
   "execution_count": 4,
   "id": "4a1c3c2c-0864-44b9-b32b-07cb20575454",
   "metadata": {},
   "outputs": [],
   "source": [
    "iris.species = iris.species.map(species_map)"
   ]
  },
  {
   "cell_type": "code",
   "execution_count": 5,
   "id": "5f58267f-1ed9-4216-bb04-f3c011cc2426",
   "metadata": {},
   "outputs": [
    {
     "data": {
      "text/html": [
       "<div>\n",
       "<style scoped>\n",
       "    .dataframe tbody tr th:only-of-type {\n",
       "        vertical-align: middle;\n",
       "    }\n",
       "\n",
       "    .dataframe tbody tr th {\n",
       "        vertical-align: top;\n",
       "    }\n",
       "\n",
       "    .dataframe thead th {\n",
       "        text-align: right;\n",
       "    }\n",
       "</style>\n",
       "<table border=\"1\" class=\"dataframe\">\n",
       "  <thead>\n",
       "    <tr style=\"text-align: right;\">\n",
       "      <th></th>\n",
       "      <th>sepal_length</th>\n",
       "      <th>sepal_width</th>\n",
       "      <th>petal_length</th>\n",
       "      <th>petal_width</th>\n",
       "      <th>species</th>\n",
       "    </tr>\n",
       "  </thead>\n",
       "  <tbody>\n",
       "    <tr>\n",
       "      <th>0</th>\n",
       "      <td>5.1</td>\n",
       "      <td>3.5</td>\n",
       "      <td>1.4</td>\n",
       "      <td>0.2</td>\n",
       "      <td>1</td>\n",
       "    </tr>\n",
       "    <tr>\n",
       "      <th>1</th>\n",
       "      <td>4.9</td>\n",
       "      <td>3.0</td>\n",
       "      <td>1.4</td>\n",
       "      <td>0.2</td>\n",
       "      <td>1</td>\n",
       "    </tr>\n",
       "    <tr>\n",
       "      <th>2</th>\n",
       "      <td>4.7</td>\n",
       "      <td>3.2</td>\n",
       "      <td>1.3</td>\n",
       "      <td>0.2</td>\n",
       "      <td>1</td>\n",
       "    </tr>\n",
       "    <tr>\n",
       "      <th>3</th>\n",
       "      <td>4.6</td>\n",
       "      <td>3.1</td>\n",
       "      <td>1.5</td>\n",
       "      <td>0.2</td>\n",
       "      <td>1</td>\n",
       "    </tr>\n",
       "    <tr>\n",
       "      <th>4</th>\n",
       "      <td>5.0</td>\n",
       "      <td>3.6</td>\n",
       "      <td>1.4</td>\n",
       "      <td>0.2</td>\n",
       "      <td>1</td>\n",
       "    </tr>\n",
       "  </tbody>\n",
       "</table>\n",
       "</div>"
      ],
      "text/plain": [
       "   sepal_length  sepal_width  petal_length  petal_width  species\n",
       "0           5.1          3.5           1.4          0.2        1\n",
       "1           4.9          3.0           1.4          0.2        1\n",
       "2           4.7          3.2           1.3          0.2        1\n",
       "3           4.6          3.1           1.5          0.2        1\n",
       "4           5.0          3.6           1.4          0.2        1"
      ]
     },
     "execution_count": 5,
     "metadata": {},
     "output_type": "execute_result"
    }
   ],
   "source": [
    "iris.head()"
   ]
  },
  {
   "cell_type": "code",
   "execution_count": 6,
   "id": "4bab34bb-bdf4-40da-8591-94763d2dec3b",
   "metadata": {},
   "outputs": [
    {
     "data": {
      "text/plain": [
       "sepal_length    0\n",
       "sepal_width     0\n",
       "petal_length    0\n",
       "petal_width     0\n",
       "species         0\n",
       "dtype: int64"
      ]
     },
     "execution_count": 6,
     "metadata": {},
     "output_type": "execute_result"
    }
   ],
   "source": [
    "iris.isnull().sum()"
   ]
  },
  {
   "cell_type": "code",
   "execution_count": 7,
   "id": "82e4412a-c180-47b0-9be1-a325471e04a5",
   "metadata": {},
   "outputs": [],
   "source": [
    "new_iris = iris[iris[\"species\"] != 1][[\"sepal_length\", \"sepal_width\", \"species\"]]"
   ]
  },
  {
   "cell_type": "code",
   "execution_count": 8,
   "id": "0d25a8b1-e292-4141-919f-071cf2b43329",
   "metadata": {},
   "outputs": [
    {
     "data": {
      "text/html": [
       "<div>\n",
       "<style scoped>\n",
       "    .dataframe tbody tr th:only-of-type {\n",
       "        vertical-align: middle;\n",
       "    }\n",
       "\n",
       "    .dataframe tbody tr th {\n",
       "        vertical-align: top;\n",
       "    }\n",
       "\n",
       "    .dataframe thead th {\n",
       "        text-align: right;\n",
       "    }\n",
       "</style>\n",
       "<table border=\"1\" class=\"dataframe\">\n",
       "  <thead>\n",
       "    <tr style=\"text-align: right;\">\n",
       "      <th></th>\n",
       "      <th>sepal_length</th>\n",
       "      <th>sepal_width</th>\n",
       "      <th>species</th>\n",
       "    </tr>\n",
       "  </thead>\n",
       "  <tbody>\n",
       "    <tr>\n",
       "      <th>50</th>\n",
       "      <td>7.0</td>\n",
       "      <td>3.2</td>\n",
       "      <td>2</td>\n",
       "    </tr>\n",
       "    <tr>\n",
       "      <th>51</th>\n",
       "      <td>6.4</td>\n",
       "      <td>3.2</td>\n",
       "      <td>2</td>\n",
       "    </tr>\n",
       "    <tr>\n",
       "      <th>52</th>\n",
       "      <td>6.9</td>\n",
       "      <td>3.1</td>\n",
       "      <td>2</td>\n",
       "    </tr>\n",
       "    <tr>\n",
       "      <th>53</th>\n",
       "      <td>5.5</td>\n",
       "      <td>2.3</td>\n",
       "      <td>2</td>\n",
       "    </tr>\n",
       "    <tr>\n",
       "      <th>54</th>\n",
       "      <td>6.5</td>\n",
       "      <td>2.8</td>\n",
       "      <td>2</td>\n",
       "    </tr>\n",
       "  </tbody>\n",
       "</table>\n",
       "</div>"
      ],
      "text/plain": [
       "    sepal_length  sepal_width  species\n",
       "50           7.0          3.2        2\n",
       "51           6.4          3.2        2\n",
       "52           6.9          3.1        2\n",
       "53           5.5          2.3        2\n",
       "54           6.5          2.8        2"
      ]
     },
     "execution_count": 8,
     "metadata": {},
     "output_type": "execute_result"
    }
   ],
   "source": [
    "new_iris.head()"
   ]
  },
  {
   "cell_type": "code",
   "execution_count": 9,
   "id": "b8f12fdd-fd49-4195-8246-ac60f781e6d7",
   "metadata": {},
   "outputs": [],
   "source": [
    "X = new_iris.iloc[:, :-1]\n",
    "y = new_iris.iloc[:,-1]"
   ]
  },
  {
   "cell_type": "code",
   "execution_count": 10,
   "id": "6e293058-5769-48cf-b2a9-7487aac4d040",
   "metadata": {},
   "outputs": [],
   "source": [
    "X_train, X_test, y_train, y_test = train_test_split(X, y, train_size=0.8, random_state=42)"
   ]
  },
  {
   "cell_type": "code",
   "execution_count": 11,
   "id": "0b2ece40-00af-4c65-a4c4-37a08f9b9b9e",
   "metadata": {},
   "outputs": [],
   "source": [
    "clf1 = LogisticRegression()\n",
    "clf2 = RandomForestClassifier()\n",
    "clf3 = KNeighborsClassifier()"
   ]
  },
  {
   "cell_type": "code",
   "execution_count": 12,
   "id": "e4997c37-c7af-4243-90a4-a5b78ef35a25",
   "metadata": {},
   "outputs": [],
   "source": [
    "estimators = [(\"lr\", clf1), (\"rf\", clf2), (\"knn\", clf3)]"
   ]
  },
  {
   "cell_type": "code",
   "execution_count": 13,
   "id": "9480aaeb-a10c-472f-b55f-8f83c4ca91f9",
   "metadata": {},
   "outputs": [
    {
     "name": "stdout",
     "output_type": "stream",
     "text": [
      "lr 0.75\n",
      "rf 0.6\n",
      "knn 0.61\n"
     ]
    }
   ],
   "source": [
    "for estimator in estimators:\n",
    "    val = cross_val_score(estimator[1], X, y, cv=10, scoring=\"accuracy\")\n",
    "    print(estimator[0], np.round(np.mean(val), 2))"
   ]
  },
  {
   "cell_type": "code",
   "execution_count": 14,
   "id": "4a446ccf-99fb-4bf4-90d8-926f589297c2",
   "metadata": {},
   "outputs": [
    {
     "name": "stdout",
     "output_type": "stream",
     "text": [
      "VC-hard 0.68\n"
     ]
    }
   ],
   "source": [
    "vc = VotingClassifier(estimators=estimators)\n",
    "val = cross_val_score(vc, X, y, cv=10, scoring=\"accuracy\")\n",
    "print(\"VC-hard\", np.round(np.mean(val), 2))"
   ]
  },
  {
   "cell_type": "code",
   "execution_count": 15,
   "id": "d46e65d0-6c76-417d-8ee6-9c673a30572b",
   "metadata": {},
   "outputs": [
    {
     "name": "stdout",
     "output_type": "stream",
     "text": [
      "VC-soft 0.66\n"
     ]
    }
   ],
   "source": [
    "vc1 = VotingClassifier(estimators=estimators, voting=\"soft\")\n",
    "val = cross_val_score(vc1, X, y, cv=10, scoring=\"accuracy\")\n",
    "print(\"VC-soft\", np.round(np.mean(val), 2))"
   ]
  },
  {
   "cell_type": "code",
   "execution_count": null,
   "id": "b6102114-54cb-4e7e-8d6c-034d3d0edd05",
   "metadata": {},
   "outputs": [],
   "source": []
  }
 ],
 "metadata": {
  "kernelspec": {
   "display_name": "Python 3 (ipykernel)",
   "language": "python",
   "name": "python3"
  },
  "language_info": {
   "codemirror_mode": {
    "name": "ipython",
    "version": 3
   },
   "file_extension": ".py",
   "mimetype": "text/x-python",
   "name": "python",
   "nbconvert_exporter": "python",
   "pygments_lexer": "ipython3",
   "version": "3.12.2"
  }
 },
 "nbformat": 4,
 "nbformat_minor": 5
}
