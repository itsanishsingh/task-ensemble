{
 "cells": [
  {
   "cell_type": "markdown",
   "id": "3b938319-3442-4d7c-9425-64613632e992",
   "metadata": {},
   "source": [
    "# Ensemble Classifier\n",
    "It helps improve machine learning by combining various models. This approach allows the production of better predictive performance compared to a single model. The idea is to train a bunch of experts(classifiers) and let them vote."
   ]
  },
  {
   "cell_type": "code",
   "execution_count": null,
   "id": "8ee7ae6e-cd89-454b-8aef-789aa3c087ac",
   "metadata": {},
   "outputs": [],
   "source": []
  }
 ],
 "metadata": {
  "kernelspec": {
   "display_name": "Python 3 (ipykernel)",
   "language": "python",
   "name": "python3"
  },
  "language_info": {
   "codemirror_mode": {
    "name": "ipython",
    "version": 3
   },
   "file_extension": ".py",
   "mimetype": "text/x-python",
   "name": "python",
   "nbconvert_exporter": "python",
   "pygments_lexer": "ipython3",
   "version": "3.12.2"
  }
 },
 "nbformat": 4,
 "nbformat_minor": 5
}
